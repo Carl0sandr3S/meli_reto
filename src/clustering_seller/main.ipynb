{
 "cells": [
  {
   "cell_type": "markdown",
   "id": "bce02642",
   "metadata": {},
   "source": [
    "# Prueba Técnica MELI Clusterización de Sellers"
   ]
  },
  {
   "cell_type": "markdown",
   "id": "09df3743",
   "metadata": {},
   "source": [
    "🧠  Este script está diseñado para extraer información de la página de Mercado Libre utilizando Scrapy y la API oficial proporcionada por la plataforma. Una vez obtenidos los datos, se realiza un preprocesamiento y limpieza para garantizar su calidad. Posteriormente, los datos se utilizan como base para implementar una solución analítica de clusterización, con el objetivo de identificar patrones o segmentos relevantes."
   ]
  },
  {
   "cell_type": "markdown",
   "id": "44b97a92",
   "metadata": {},
   "source": [
    "## Recolección de información"
   ]
  },
  {
   "cell_type": "markdown",
   "id": "3103c135",
   "metadata": {},
   "source": [
    "Según información publicada por el sitio oficial de [Mercado Libre](https://vendedores.mercadolibre.com.co/nota/los-productos-mas-vendidos-en-internet-10-ideas-para-tu-shop) uno de los productos más atractivos para los clientes con una amplia gama de seguidores son los productos electrónicos.\n",
    "\n",
    "Debido a este alto nivel de interés, se seleccionó esta categoría como enfoque principal para identificar clientes potenciales y desarrollar estrategias de segmentación efectivas.\n"
   ]
  },
  {
   "cell_type": "markdown",
   "id": "b6a3c17f",
   "metadata": {},
   "source": [
    "### Utilización de la API y scrapy "
   ]
  },
  {
   "cell_type": "markdown",
   "id": "792c3a2c",
   "metadata": {},
   "source": [
    "Con extraer de forma masiva links de productos tecnológicos se utilizó el framework Scrapy. A Partir de la construcción de una \"araña\" se navega a través de diversas páginas extrayendo su dirección URL.\n",
    "\n",
    "Una vez se haya ambientado el entorno de python deirijare al archivo ```web_scraping.py``` y ejeutelo mediante el siguinte comando ```scrapy runspider meli_produtcos_tres.py -o datos_meli_uno_cel.json```.\n",
    "Lo anterior retorna una lista de diccionarios que albergan las direcciones url de los productos. (Para este  caso practico ya se cuenta con el archivo ```web_scraping.py``` ) \n",
    "\n",
    "Una vez consolidado el archivo de datos,se realiza análisis y procesamiento. A continuacion los detalles\n",
    "\n",
    "\n"
   ]
  },
  {
   "cell_type": "code",
   "execution_count": 35,
   "id": "274d56c5",
   "metadata": {},
   "outputs": [],
   "source": [
    "import pandas as pd\n",
    "import re\n",
    "from paquete_clustering.utils import UtilsClustering\n",
    "import requests\n",
    "import time\n",
    "from geopy.geocoders import Nominatim\n",
    "import pandas as pd\n",
    "import plotly.express as px\n",
    "import matplotlib.pyplot as plt\n",
    "from sklearn.cluster import KMeans\n",
    "from sklearn.preprocessing import StandardScaler\n",
    "from sklearn.preprocessing import MinMaxScaler\n",
    "from sklearn.metrics import calinski_harabasz_score, davies_bouldin_score, silhouette_score,silhouette_score\n",
    "import mysql.connector\n",
    "from sqlalchemy import create_engine\n",
    "\n",
    "from sqlalchemy.types import Integer, String,BigInteger\n",
    "\n"
   ]
  },
  {
   "cell_type": "code",
   "execution_count": 2,
   "id": "f1536a74",
   "metadata": {},
   "outputs": [],
   "source": [
    "total_urls = pd.read_json(\"urls_file.json\")\n",
    "total_urls = [url for _, row in total_urls.iterrows()  for url in row[\"url_\"]]\n",
    "total_productos = [re.search(r'([/p/])+(MCO[\\d]+)', url).group(2) for url in total_urls if re.search(r'([/p/])+(MCO[\\d]+)', url) ]\n",
    "total_productos = sorted(set(total_productos))"
   ]
  },
  {
   "cell_type": "markdown",
   "id": "9d6666c2",
   "metadata": {},
   "source": [
    "💡 Al tener en una lista los distintos productos se realiza el llamado a la API para conocer información más detallada de los mismo, no sin  antes realizar el proceso de autenticación exigido por\n",
    "[Mercado Libre](https://developers.mercadolibre.com.co/es_ar/crea-una-aplicacion-en-mercado-libre-es)"
   ]
  },
  {
   "cell_type": "code",
   "execution_count": 3,
   "id": "834584ce",
   "metadata": {},
   "outputs": [],
   "source": [
    "with open(\"config.json\") as f:\n",
    "    config = eval(f.read())\n",
    "utils_clustering =UtilsClustering(configraciones=config)\n"
   ]
  },
  {
   "cell_type": "code",
   "execution_count": 4,
   "id": "0659d2e5",
   "metadata": {},
   "outputs": [
    {
     "name": "stdout",
     "output_type": "stream",
     "text": [
      "Solicitud post exitosa\n",
      "Respuesta:\n",
      "{\"access_token\":\"APP_USR-1271746154574690-073113-5abf2e691e05d6dca29e197a318e1980-2583130070\",\"token_type\":\"Bearer\",\"expires_in\":21600,\"scope\":\"offline_access read urn:global:admin:users:/read-only urn:global:admin:users:/read-write urn:ml:mktp:ads:/read-only urn:ml:mktp:comunication:/read-only urn:ml:mktp:invoices:/read-only urn:ml:mktp:metrics:/read-only urn:ml:mktp:offers:/read-only urn:ml:mktp:orders-shipments:/read-only urn:ml:mktp:publish-sync:/read-only write\",\"user_id\":2583130070,\"refresh_token\":\"TG-688bad280db8210001d843c4-2583130070\"}\n"
     ]
    }
   ],
   "source": [
    "dato = utils_clustering.actualizar_token(config[\"nuevo_token\"])"
   ]
  },
  {
   "cell_type": "code",
   "execution_count": 5,
   "id": "975e2f7a",
   "metadata": {},
   "outputs": [],
   "source": [
    "\n",
    "headers_meli = {'Authorization':f'Bearer {eval(dato)[\"access_token\"]}','User-Agent': 'Mozilla/5.0 (Windows NT 10.0; Win64; x64) AppleWebKit/537.36 (KHTML, like Gecko) Chrome/123.0.0.0 Safari/537.36'}\n",
    "seller_id = []\n",
    "for descrip_producto in total_productos:\n",
    "    try:\n",
    "        info_producto = requests.get(f'https://api.mercadolibre.com/products/{descrip_producto}/items', headers=headers_meli).json()\n",
    "    except:\n",
    "        print(\"Informacion del producto no encontrada\")\n",
    "\n",
    "    for item in info_producto.get(\"results\",{}):\n",
    "        seller_id.append(item[\"seller_id\"])\n",
    "seller_id = sorted(set(seller_id))\n"
   ]
  },
  {
   "cell_type": "markdown",
   "id": "15009424",
   "metadata": {},
   "source": [
    "Al conocer el id de cada seller se llama nuevamente el API para conocer su  [informacion](https://developers.mercadolibre.com.co/es_ar/items-y-busquedas)\n"
   ]
  },
  {
   "cell_type": "code",
   "execution_count": 6,
   "id": "f877e884",
   "metadata": {},
   "outputs": [],
   "source": [
    "def obtener_detalle_seller(seller_id):\n",
    "    resp = requests.get(f'https://api.mercadolibre.com/users/{seller_id}', headers=headers_meli)\n",
    "    if resp.status_code != 200:\n",
    "        return None\n",
    "    info = resp.json()\n",
    "    rep = info.get(\"seller_reputation\", {})\n",
    "    tx = rep.get(\"transactions\", {})\n",
    "    status = rep.get(\"status\", {})\n",
    "    return {\n",
    "        \"seller_id\": seller_id,\n",
    "        \"level_id\": rep.get(\"level_id\"),\n",
    "        \"power_seller_status\": rep.get(\"power_seller_status\"),\n",
    "        \"total_transactions\": tx.get(\"total\", 0),\n",
    "        \"city\": info.get(\"address\", {}).get(\"city\"),\n",
    "        \"status\": info.get(\"status\",{}).get(\"site_status\"),\n",
    "    }\n",
    "total_sellers_info = []\n",
    "for id in seller_id:\n",
    "  time.sleep(0.1)\n",
    "  det = obtener_detalle_seller(id)\n",
    "  if det:\n",
    "    total_sellers_info.append(det)"
   ]
  },
  {
   "cell_type": "code",
   "execution_count": 7,
   "id": "b7f3ee99",
   "metadata": {},
   "outputs": [
    {
     "data": {
      "text/plain": [
       "{'seller_id': 27908895,\n",
       " 'level_id': '5_green',\n",
       " 'power_seller_status': None,\n",
       " 'total_transactions': 283,\n",
       " 'city': 'Puente Aranda',\n",
       " 'status': 'active'}"
      ]
     },
     "execution_count": 7,
     "metadata": {},
     "output_type": "execute_result"
    }
   ],
   "source": [
    "total_sellers_info[5]"
   ]
  },
  {
   "cell_type": "markdown",
   "id": "cbe5a9d2",
   "metadata": {},
   "source": [
    "Lo anterior nos arroja un diccionario con datos relevantes del seller, la   [documentación](https://developers.mercadolibre.com.ar/es_ar/reputacion-de-vendedores) nos indica que podemos ver campos esenciales como:  \n",
    "\n",
    "* level_id: nivel de reputación del usuario, descrita en numeración y color del termometro.\n",
    "* power_seller_status: este campo indica si el vendedor es Mercado Lider, y el nombre de la medalla recibida, puede ser Silver, Gold o Platinum.\n",
    "* real_level: nivel real de reputación del vendedor, durante el período de protección (aparece solo cuando el vendedor está protegido).\n",
    "* protection_end_date: fecha de fin de la protección (solo cuando el vendedor está protegido).\n",
    "* transactions: cantidad de ventas realizadas por el usuario en un determinado periodo.\n",
    "* canceled: cantidad de operaciones canceladas.\n",
    "* completed: cantidad de transacciones completadas.\n",
    "* period: período tenido en cuenta.\n",
    "* ratings: ratio de ventas calificadas en negativas, neutras, o positivas.\n",
    "* total: total de transacciones.\n"
   ]
  },
  {
   "cell_type": "code",
   "execution_count": 8,
   "id": "5e399b18",
   "metadata": {},
   "outputs": [
    {
     "data": {
      "text/plain": [
       "(184, 6)"
      ]
     },
     "execution_count": 8,
     "metadata": {},
     "output_type": "execute_result"
    }
   ],
   "source": [
    "df_sellers = pd.DataFrame(total_sellers_info)\n",
    "df_sellers.shape"
   ]
  },
  {
   "cell_type": "markdown",
   "id": "19745290",
   "metadata": {},
   "source": [
    "## Preparación de los datos"
   ]
  },
  {
   "cell_type": "markdown",
   "id": "11b9e04a",
   "metadata": {},
   "source": [
    "Una parte fundamental en la construcción de cualquier modelo de machin learning, debido a que los datos debe ser analizados y procesados de de forma muy meticulosa con el fin de\n",
    "evitar resultados engaños.\n",
    "\n",
    "\n",
    "En este apartado se revisa que los datos no presenten ninguna irregularidad que afecten la calidad de la información.\n",
    "\n",
    "\n"
   ]
  },
  {
   "cell_type": "code",
   "execution_count": 9,
   "id": "64814714",
   "metadata": {},
   "outputs": [
    {
     "data": {
      "image/png": "[encoded data removed]",
      "text/plain": [
       "<Figure size 800x500 with 1 Axes>"
      ]
     },
     "metadata": {},
     "output_type": "display_data"
    }
   ],
   "source": [
    "plt.figure(figsize=(8, 5))\n",
    "df_sellers['total_transactions'].hist(bins=20)\n",
    "plt.title('Histograma de Total de Transacciones')\n",
    "plt.xlabel('Total de Transacciones')\n",
    "plt.ylabel('Frecuencia')\n",
    "\n",
    "plt.tight_layout()\n",
    "plt.show()"
   ]
  },
  {
   "cell_type": "markdown",
   "id": "1e29faec",
   "metadata": {},
   "source": [
    "💡 De la figura anterior de observa un notorio sesgo a la derecha, indicios de  sellers inactivos o con baja actividad. Quizá muchos perfiles recién creados o tiendas con poca rotación. \n",
    "\n",
    "Teniendo una idea aproximada de los datos con los cuales se pretende trabajar se realiza la una estandarización y eliminación de irregularidades."
   ]
  },
  {
   "cell_type": "code",
   "execution_count": 10,
   "id": "848022a7",
   "metadata": {},
   "outputs": [],
   "source": [
    "df_sellers['level_num'] = df_sellers['level_id'].str.extract(r'(\\d+)').fillna(0).astype(int)\n",
    "mapping = {'silver':1,'gold':2,'platinum':3}\n",
    "df_sellers['power_num'] = df_sellers['power_seller_status'].map(mapping).fillna(0).astype(int)\n",
    "scaler = StandardScaler() \n",
    "X = scaler.fit_transform(df_sellers[['total_transactions','level_num','power_num']]) "
   ]
  },
  {
   "cell_type": "markdown",
   "id": "28f49856",
   "metadata": {},
   "source": [
    "Como el algoritmo de machine learning que se quiere implementar es el algoritmo de clustering, es de vital importancia conocer el número de cluster o grupos  que se formaran a partir de un patrón en común.\n",
    "Lo anterior se consigue aplicando el método del Elbow, método basado en la distorcion promedio de cada cluster\n",
    " \n"
   ]
  },
  {
   "cell_type": "code",
   "execution_count": 11,
   "id": "b1b693e5",
   "metadata": {},
   "outputs": [
    {
     "data": {
      "image/png": "[encoded data removed]",
      "text/plain": [
       "<Figure size 640x480 with 1 Axes>"
      ]
     },
     "metadata": {},
     "output_type": "display_data"
    }
   ],
   "source": [
    "n_cluster = []\n",
    "for i in range(2,10):\n",
    "  kmeans = KMeans(n_clusters=i, random_state=42)\n",
    "  kmeans.fit(X)\n",
    "  n_cluster.append(kmeans.inertia_)\n",
    "plt.plot(range(2,10),n_cluster, marker='x')\n",
    "plt.xlabel('Número de clusters')\n",
    "plt.ylabel('Distorcion')\n",
    "plt.title('Método del Elbow')\n",
    "plt.grid(True)\n",
    "plt.show()"
   ]
  },
  {
   "cell_type": "code",
   "execution_count": 12,
   "id": "469f7774",
   "metadata": {},
   "outputs": [],
   "source": [
    "kmeans = KMeans(n_clusters=3, init=\"k-means++\",max_iter=300,n_init=10,random_state=42)\n",
    "kmeans.fit(X) \n",
    "df_sellers['cluster'] = kmeans.fit_predict(X)"
   ]
  },
  {
   "cell_type": "code",
   "execution_count": 13,
   "id": "43bbd087",
   "metadata": {},
   "outputs": [
    {
     "data": {
      "text/plain": [
       "cluster\n",
       "0    114\n",
       "1     41\n",
       "2     29\n",
       "Name: count, dtype: int64"
      ]
     },
     "execution_count": 13,
     "metadata": {},
     "output_type": "execute_result"
    }
   ],
   "source": [
    "df_sellers.cluster.value_counts()"
   ]
  },
  {
   "cell_type": "markdown",
   "id": "d146fd32",
   "metadata": {},
   "source": [
    "Al tener el modelo entrenado es muy importante evaluarlo con el fin de determinar su funcionamiento y validez. Existen diferentes métricas como muestra la [documentación](https://developers.mercadolibre.com.ar/es_ar/reputacion-de-vendedores) que podemos aplicar para realizar la evaluación\n",
    " \n"
   ]
  },
  {
   "cell_type": "code",
   "execution_count": 14,
   "id": "b39dfe99",
   "metadata": {},
   "outputs": [
    {
     "name": "stdout",
     "output_type": "stream",
     "text": [
      "Índice de Davies-Bouldin:  0.5238773490490006\n",
      "Silhouette Score:  0.6449276080925535\n",
      "Calinski-Harabasz:  258.2028095749315\n"
     ]
    }
   ],
   "source": [
    "print(\"Índice de Davies-Bouldin: \", davies_bouldin_score(X, kmeans.labels_))  #valores cercanos a cero indican un buen clustering\n",
    "print(\"Silhouette Score: \", silhouette_score(X, kmeans.labels_)) #valores cercanos a uno indican un buen clustering\n",
    "print(\"Calinski-Harabasz: \", calinski_harabasz_score(X, kmeans.labels_)) #si bin no existe un valor estandar al que se llega, es util para comparalo con otro modelo. Un valor grande indica un clustering optimo\n"
   ]
  },
  {
   "cell_type": "markdown",
   "id": "6450b12c",
   "metadata": {},
   "source": [
    "Conociendo que se tiene un desempeño favorable se puede generar conclusiones al respecto\n",
    " \n",
    "\n",
    "💡 Cluster 0 (“Newbies”)\n",
    "\n",
    "\n",
    "* Prácticamente 0 transacciones.\n",
    "* Nivel de reputación casi siempre None\n",
    "* Potencial de bajo compromiso o cuentas recién creadas\n",
    "\n",
    "💡 Cluster 1 (“Intermedios”)\n",
    "\n",
    "\n",
    "* Entre ~500 y ~5 000 transacciones.\n",
    "* Reputación 5_green mayoritariamente, con estatus gold/silver.\n",
    "* Sellers consolidados con volumen medio y buena reputación.\n",
    "\n",
    "💡 Cluster 2 (“Top Sellers”)\n",
    "\n",
    "\n",
    "* Más de ~5 000 transacciones, en algunos caso supera las 50.000.\n",
    "* Reputación al máximo (5_green) y estatus platinum.\n",
    "* Candidatos ideales para programas de fidelidad, asociaciones comerciales o promociones exclusivas.\n"
   ]
  },
  {
   "cell_type": "code",
   "execution_count": 15,
   "id": "d1894be2",
   "metadata": {},
   "outputs": [
    {
     "data": {
      "image/png": "[encoded data removed]",
      "text/plain": [
       "<Figure size 1200x600 with 2 Axes>"
      ]
     },
     "metadata": {},
     "output_type": "display_data"
    }
   ],
   "source": [
    "fig, (ax1, ax2) = plt.subplots(1, 2, figsize=(12, 6))\n",
    "\n",
    "ax1.scatter(\n",
    "    df_sellers['total_transactions'],\n",
    "    df_sellers['level_num'],\n",
    "    c=df_sellers['cluster'],\n",
    "    alpha=0.6\n",
    ")\n",
    "ax1.set_xlabel('Total de transacciones')\n",
    "ax1.set_ylabel('Nivel de reputación')\n",
    "ax1.set_title('Clusters de sellers: transacciones vs nivel')\n",
    "\n",
    "ax2.scatter(\n",
    "    df_sellers['total_transactions'],\n",
    "    df_sellers['power_num'],\n",
    "    c=df_sellers['cluster'],\n",
    "    alpha=0.6\n",
    ")\n",
    "ax2.set_xlabel('Total de transacciones')\n",
    "ax2.set_ylabel('Power Seller')\n",
    "ax2.set_title('Clusters de sellers: transacciones vs Power Seller')\n",
    "\n",
    "plt.tight_layout()\n",
    "plt.show()"
   ]
  },
  {
   "cell_type": "markdown",
   "id": "bc328ad0",
   "metadata": {},
   "source": [
    "Como se puede observar en los datos presentados, el número de ventas es  indicador crítico para el desempeño del negocio. Este hallazgo representa una métrica fundamental que requiere optimización\n"
   ]
  },
  {
   "cell_type": "markdown",
   "id": "dee9e5b3",
   "metadata": {},
   "source": [
    "### 📚 Punto adicional"
   ]
  },
  {
   "cell_type": "markdown",
   "id": "f32a5305",
   "metadata": {},
   "source": [
    "Como práctica fundamental, se recomienda conservar el histórico de datos con el fin de evaluar el desempeño de los sellers, medir el impacto de las campañas de mejora implementadas y realizar análisis comparativos a lo largo del tiempo. \n",
    "Por lo cual se almacena el dataframe ```df_sellers``` en una base de datos relacional (MySQL) para este caso práctico. No obstante para entornos productivos, se pueden considerar soluciones como:\n",
    "* BigQuery (Google Cloud)\n",
    "* Amazon Redshift (AWS)\n",
    "* Snowflake\n",
    "* Otras alternativas de Data Warehouse en la nube\n",
    "\n",
    "Se parte creadondo la base de datos, para posteriomente crear la tabla y cargar los datos\n"
   ]
  },
  {
   "cell_type": "markdown",
   "id": "048de645",
   "metadata": {},
   "source": [
    "```CREATE DATABASE db_ejemplo;```\n",
    "\n",
    "\n",
    "  \n",
    " ```\n",
    " CREATE TABLE `sellers` (\n",
    "  `seller_id` int DEFAULT NULL,\n",
    "  `city` varchar(100) DEFAULT NULL,\n",
    "  `total_transactions` int DEFAULT NULL,\n",
    "  `level_num` int DEFAULT NULL,\n",
    "  `power_num` int DEFAULT NULL,\n",
    "  `cluster` int DEFAULT NULL\n",
    ") \n",
    "```\n"
   ]
  },
  {
   "cell_type": "code",
   "execution_count": 18,
   "id": "809a87a2",
   "metadata": {},
   "outputs": [
    {
     "data": {
      "text/html": [
       "<div>\n",
       "<style scoped>\n",
       "    .dataframe tbody tr th:only-of-type {\n",
       "        vertical-align: middle;\n",
       "    }\n",
       "\n",
       "    .dataframe tbody tr th {\n",
       "        vertical-align: top;\n",
       "    }\n",
       "\n",
       "    .dataframe thead th {\n",
       "        text-align: right;\n",
       "    }\n",
       "</style>\n",
       "<table border=\"1\" class=\"dataframe\">\n",
       "  <thead>\n",
       "    <tr style=\"text-align: right;\">\n",
       "      <th></th>\n",
       "      <th>seller_id</th>\n",
       "      <th>level_id</th>\n",
       "      <th>power_seller_status</th>\n",
       "      <th>total_transactions</th>\n",
       "      <th>city</th>\n",
       "      <th>status</th>\n",
       "      <th>level_num</th>\n",
       "      <th>power_num</th>\n",
       "      <th>cluster</th>\n",
       "    </tr>\n",
       "  </thead>\n",
       "  <tbody>\n",
       "    <tr>\n",
       "      <th>0</th>\n",
       "      <td>2457965</td>\n",
       "      <td>None</td>\n",
       "      <td>None</td>\n",
       "      <td>0</td>\n",
       "      <td>Funza</td>\n",
       "      <td>active</td>\n",
       "      <td>0</td>\n",
       "      <td>0</td>\n",
       "      <td>1</td>\n",
       "    </tr>\n",
       "    <tr>\n",
       "      <th>1</th>\n",
       "      <td>5196661</td>\n",
       "      <td>2_orange</td>\n",
       "      <td>None</td>\n",
       "      <td>18</td>\n",
       "      <td>Pasto</td>\n",
       "      <td>active</td>\n",
       "      <td>2</td>\n",
       "      <td>0</td>\n",
       "      <td>1</td>\n",
       "    </tr>\n",
       "    <tr>\n",
       "      <th>2</th>\n",
       "      <td>8019088</td>\n",
       "      <td>5_green</td>\n",
       "      <td>gold</td>\n",
       "      <td>4509</td>\n",
       "      <td>Medellín</td>\n",
       "      <td>active</td>\n",
       "      <td>5</td>\n",
       "      <td>2</td>\n",
       "      <td>0</td>\n",
       "    </tr>\n",
       "    <tr>\n",
       "      <th>3</th>\n",
       "      <td>19576477</td>\n",
       "      <td>5_green</td>\n",
       "      <td>platinum</td>\n",
       "      <td>6944</td>\n",
       "      <td>Chapinero</td>\n",
       "      <td>active</td>\n",
       "      <td>5</td>\n",
       "      <td>3</td>\n",
       "      <td>2</td>\n",
       "    </tr>\n",
       "    <tr>\n",
       "      <th>4</th>\n",
       "      <td>27864113</td>\n",
       "      <td>None</td>\n",
       "      <td>None</td>\n",
       "      <td>0</td>\n",
       "      <td>Medellín</td>\n",
       "      <td>active</td>\n",
       "      <td>0</td>\n",
       "      <td>0</td>\n",
       "      <td>1</td>\n",
       "    </tr>\n",
       "  </tbody>\n",
       "</table>\n",
       "</div>"
      ],
      "text/plain": [
       "   seller_id  level_id power_seller_status  total_transactions       city  \\\n",
       "0    2457965      None                None                   0      Funza   \n",
       "1    5196661  2_orange                None                  18      Pasto   \n",
       "2    8019088   5_green                gold                4509   Medellín   \n",
       "3   19576477   5_green            platinum                6944  Chapinero   \n",
       "4   27864113      None                None                   0   Medellín   \n",
       "\n",
       "   status  level_num  power_num  cluster  \n",
       "0  active          0          0        1  \n",
       "1  active          2          0        1  \n",
       "2  active          5          2        0  \n",
       "3  active          5          3        2  \n",
       "4  active          0          0        1  "
      ]
     },
     "execution_count": 18,
     "metadata": {},
     "output_type": "execute_result"
    }
   ],
   "source": [
    "df_sellers.head()"
   ]
  },
  {
   "cell_type": "code",
   "execution_count": 20,
   "id": "2f70c408",
   "metadata": {},
   "outputs": [],
   "source": [
    "df_sellers = df_sellers[[\"seller_id\",\"city\",\"total_transactions\",\"level_num\",\"power_num\",\"cluster\"]]"
   ]
  },
  {
   "cell_type": "code",
   "execution_count": null,
   "id": "9c1edc2e",
   "metadata": {
    "vscode": {
     "languageId": "javascript"
    }
   },
   "outputs": [],
   "source": [
    "\n",
    "coneccion = f\"mysql+mysqlconnector://{config['user']}:{config['password']}@{config['host']}/{config['database']}\"\n"
   ]
  },
  {
   "cell_type": "code",
   "execution_count": null,
   "id": "571fe279",
   "metadata": {},
   "outputs": [
    {
     "data": {
      "text/plain": [
       "184"
      ]
     },
     "execution_count": 37,
     "metadata": {},
     "output_type": "execute_result"
    }
   ],
   "source": [
    "dtype_mapping = {\n",
    "    \"seller_id\": BigInteger(),\n",
    "    \"city\": String(100),\n",
    "    \"total_transactions\": Integer(),\n",
    "    \"level_num\": Integer(),\n",
    "    \"power_num\": Integer(),\n",
    "    \"cluster\": Integer(),\n",
    "}\n"
   ]
  },
  {
   "cell_type": "code",
   "execution_count": null,
   "id": "1789c461",
   "metadata": {},
   "outputs": [],
   "source": [
    "df_sellers.to_sql(\n",
    "    name=\"sellers\",          \n",
    "    con=coneccion,\n",
    "    if_exists=\"append\",\n",
    "    index=False,\n",
    "    dtype=dtype_mapping,\n",
    "    chunksize=500\n",
    ")"
   ]
  },
  {
   "cell_type": "code",
   "execution_count": null,
   "id": "c98e1202",
   "metadata": {},
   "outputs": [],
   "source": []
  }
 ],
 "metadata": {
  "kernelspec": {
   "display_name": "meli-env",
   "language": "python",
   "name": "python3"
  },
  "language_info": {
   "codemirror_mode": {
    "name": "ipython",
    "version": 3
   },
   "file_extension": ".py",
   "mimetype": "text/x-python",
   "name": "python",
   "nbconvert_exporter": "python",
   "pygments_lexer": "ipython3",
   "version": "3.9.6"
  }
 },
 "nbformat": 4,
 "nbformat_minor": 5
}
